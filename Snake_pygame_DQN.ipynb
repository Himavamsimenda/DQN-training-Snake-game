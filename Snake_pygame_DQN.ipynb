{
  "cells": [
    {
      "cell_type": "markdown",
      "metadata": {
        "id": "np_5lbGvTvrG"
      },
      "source": [
        "Training snake game (created using pygame) using Deep-Q Learning algorithm .\n",
        "\n",
        "This consists of four parts Model, Helper code, Agent Class , Game\n",
        "Importing Necessary Libraries below"
      ]
    },
    {
      "cell_type": "code",
      "execution_count": 28,
      "metadata": {
        "id": "eY9vVaw3Uda7"
      },
      "outputs": [],
      "source": [
        "#that are required for Agent\n",
        "import torch\n",
        "import random\n",
        "import numpy as np\n",
        "from collections import deque  #deque is for storing agents rewards, actions , states, next states\n",
        "\n",
        "#that are required for Model\n",
        "import torch\n",
        "import torch.nn as nn\n",
        "import torch.optim as optim\n",
        "import torch.nn.functional as F\n",
        "import os\n",
        "\n",
        "#Importing Pygame\n",
        "import pygame\n",
        "import random\n",
        "from enum import Enum\n",
        "from collections import namedtuple\n",
        "import numpy as np\n"
      ]
    },
    {
      "cell_type": "markdown",
      "metadata": {
        "id": "y76_JI2bWOZq"
      },
      "source": [
        "Helper code below.."
      ]
    },
    {
      "cell_type": "code",
      "execution_count": 1,
      "metadata": {
        "id": "79b9CEbtWN_o"
      },
      "outputs": [],
      "source": [
        "import matplotlib.pyplot as plt\n",
        "from IPython import display\n",
        "\n",
        "plt.ion()\n",
        "\n",
        "def plot(scores, mean_scores):\n",
        "    display.clear_output(wait=True)\n",
        "    display.display(plt.gcf())\n",
        "    plt.clf()\n",
        "    plt.title('Training...')\n",
        "    plt.xlabel('Number of Games')\n",
        "    plt.ylabel('Score')\n",
        "    plt.plot(scores)\n",
        "    plt.plot(mean_scores)\n",
        "    plt.ylim(ymin=0)\n",
        "    plt.text(len(scores)-1, scores[-1], str(scores[-1]))\n",
        "    plt.text(len(mean_scores)-1, mean_scores[-1], str(mean_scores[-1]))\n",
        "    plt.show(block=False)\n",
        "    plt.pause(.1)"
      ]
    },
    {
      "cell_type": "code",
      "execution_count": 27,
      "metadata": {
        "id": "3ujtQfiXXLkk"
      },
      "outputs": [],
      "source": [
        "MAX_MEMORY = 100_000\n",
        "BATCH_SIZE = 1000\n",
        "Learning_rate = 0.001"
      ]
    },
    {
      "cell_type": "code",
      "execution_count": 32,
      "metadata": {
        "id": "BTTmNR5mXtc6"
      },
      "outputs": [],
      "source": [
        "pygame.init()\n",
        "font = pygame.font.Font('arial.ttf', 25)"
      ]
    },
    {
      "cell_type": "code",
      "execution_count": 25,
      "metadata": {
        "id": "t0InYA4aYTby"
      },
      "outputs": [],
      "source": [
        "class Direction(Enum):\n",
        "    RIGHT = 1\n",
        "    LEFT = 2\n",
        "    UP = 3\n",
        "    DOWN = 4\n",
        "\n",
        "Point = namedtuple('Point', 'x, y')\n",
        "\n",
        "# rgb colors\n",
        "WHITE = (255, 255, 255)\n",
        "RED = (200,0,0)\n",
        "BLUE1 = (0, 0, 255)\n",
        "BLUE2 = (0, 100, 255)\n",
        "BLACK = (0,0,0)   #we can change the colours as our wish\n",
        "\n",
        "BLOCK_SIZE = 20  #initially snake is small , by eating food each time its size increases by Block size\n",
        "SPEED = 50 # more the speed faster the training"
      ]
    },
    {
      "cell_type": "markdown",
      "metadata": {
        "id": "Zpm_XjOKYsnk"
      },
      "source": [
        "Snake Game Class below..."
      ]
    },
    {
      "cell_type": "code",
      "execution_count": 39,
      "metadata": {
        "id": "LMI_jA2nYohR"
      },
      "outputs": [],
      "source": [
        "class SnakeGameDQN:\n",
        "\n",
        "    def __init__(self, w=640, h=480):\n",
        "        self.w = w\n",
        "        self.h = h\n",
        "        self.display = pygame.display.set_mode((self.w, self.h))\n",
        "        pygame.display.set_caption('Snake')\n",
        "        self.clock = pygame.time.Clock()\n",
        "        self.reset()\n",
        "\n",
        "    def reset(self):\n",
        "        self.direction = Direction.RIGHT # initially it starts by going right side\n",
        "        self.head = Point(self.w/2, self.h/2) #initial coordinates for head\n",
        "        self.snake = [self.head,\n",
        "                      Point(self.head.x-BLOCK_SIZE, self.head.y),\n",
        "                      Point(self.head.x-(2*BLOCK_SIZE), self.head.y)]\n",
        "\n",
        "        self.score = 0\n",
        "        self.food = None\n",
        "        self._place_food()\n",
        "        self.frame_iteration = 0\n",
        "    #after eating food we should generate food randomly at some coordinate\n",
        "    def _place_food(self):\n",
        "        x = random.randint(0, (self.w-BLOCK_SIZE )//BLOCK_SIZE )*BLOCK_SIZE\n",
        "        y = random.randint(0, (self.h-BLOCK_SIZE )//BLOCK_SIZE )*BLOCK_SIZE\n",
        "        self.food = Point(x, y)\n",
        "        if self.food in self.snake:\n",
        "            self._place_food()\n",
        "\n",
        "    def play_step(self,action):\n",
        "        self.frame_iteration += 1\n",
        "        # 1. collect user input\n",
        "        for event in pygame.event.get():\n",
        "            if event.type == pygame.QUIT:\n",
        "                pygame.quit()\n",
        "                quit()  #if user terminates the game, might be by ctrl+c\n",
        "        # 2. moving either straight or right turn or left turn\n",
        "        self._move(action) # update the head\n",
        "        self.snake.insert(0, self.head)\n",
        "\n",
        "        # 3. if game is over\n",
        "        reward = 0\n",
        "        game_over = False\n",
        "        if self.is_collision() or self.frame_iteration > 100*len(self.snake):\n",
        "            game_over = True\n",
        "            reward = -10\n",
        "            return reward,game_over,self.score\n",
        "\n",
        "        # 4. place new food or just move\n",
        "        if self.head == self.food:  #if head coordinates and food coordinates are same\n",
        "            self.score += 1\n",
        "            reward = 10\n",
        "            self._place_food()\n",
        "        else:\n",
        "            self.snake.pop()\n",
        "\n",
        "        # 5. updating clock and ui , tracking time\n",
        "        self._update_ui()\n",
        "        self.clock.tick(SPEED)\n",
        "\n",
        "        return reward,game_over, self.score\n",
        "#Function for checking the possibility of a collision\n",
        "    def is_collision(self,pt = None):\n",
        "            if pt is None:\n",
        "                pt = self.head\n",
        "            # snake hitting walls\n",
        "            if pt.x > self.w - BLOCK_SIZE or pt.x < 0 or pt.y > self.h - BLOCK_SIZE or pt.y < 0:\n",
        "                return True\n",
        "            # snake hitting itself\n",
        "            if pt in self.snake[1:]:\n",
        "                return True\n",
        "            return False\n",
        "    def _update_ui(self):\n",
        "        self.display.fill(BLACK)\n",
        "\n",
        "        for pt in self.snake:\n",
        "            pygame.draw.rect(self.display, BLUE1, pygame.Rect(pt.x, pt.y, BLOCK_SIZE, BLOCK_SIZE))\n",
        "            pygame.draw.rect(self.display, BLUE2, pygame.Rect(pt.x+4, pt.y+4, 12, 12))\n",
        "\n",
        "        pygame.draw.rect(self.display, RED, pygame.Rect(self.food.x, self.food.y, BLOCK_SIZE, BLOCK_SIZE))\n",
        "\n",
        "        text = font.render(\"Score: \" + str(self.score), True, WHITE)\n",
        "        self.display.blit(text, [0, 0])\n",
        "        pygame.display.flip()\n",
        "\n",
        "      #There are three actions\n",
        "\n",
        "      #1)Moving straight [1,0,0]\n",
        "\n",
        "      #2)Taking Right Turn [0,1,0]\n",
        "\n",
        "      #3)Taking Left Turn [0,0,1]\n",
        "    def _move(self, action):\n",
        "\n",
        "        clock_wise = [Direction.RIGHT,Direction.UP,Direction.LEFT,Direction.DOWN]\n",
        "        idx = clock_wise.index(self.direction)\n",
        "        if np.array_equal(action,[1,0,0]):\n",
        "            new_dir = clock_wise[idx]\n",
        "        elif np.array_equal(action,[0,1,0]):\n",
        "            next_idx = (idx+1)%4\n",
        "            new_dir = clock_wise[next_idx]\n",
        "        elif np.array_equal(action,[0,0,1]):\n",
        "            next_idx = (idx-1)%4\n",
        "            new_dir = clock_wise[next_idx]\n",
        "        self.direction = new_dir\n",
        "        x = self.head.x\n",
        "        y = self.head.y\n",
        "        if self.direction == Direction.RIGHT:\n",
        "            x += BLOCK_SIZE\n",
        "        elif self.direction == Direction.LEFT:\n",
        "            x -= BLOCK_SIZE\n",
        "        elif self.direction == Direction.DOWN:\n",
        "            y += BLOCK_SIZE\n",
        "        elif self.direction == Direction.UP:\n",
        "            y -= BLOCK_SIZE\n",
        "\n",
        "        self.head = Point(x, y)"
      ]
    },
    {
      "cell_type": "markdown",
      "metadata": {
        "id": "TJFNtsUQXFXZ"
      },
      "source": [
        "Implementing model code below, we are using a feed forward Neural network , one input layer and hidden layer and output layer."
      ]
    },
    {
      "cell_type": "code",
      "execution_count": 40,
      "metadata": {
        "id": "bkDOhqQDfJsw"
      },
      "outputs": [],
      "source": [
        "class Linear_QNet(nn.Module):\n",
        "    def __init__(self, input_size, hidden_size, output_size):\n",
        "        super().__init__()\n",
        "        self.linear1 = nn.Linear(input_size, hidden_size)\n",
        "        self.linear2 = nn.Linear(hidden_size, output_size)\n",
        "\n",
        "    #Forward pass\n",
        "    def forward(self, x):\n",
        "        x = F.relu(self.linear1(x))\n",
        "        x = self.linear2(x)\n",
        "        return x\n",
        "\n",
        "    #Saving the model\n",
        "    def save(self, file_name='model.pth'):\n",
        "        model_folder_path = './model'\n",
        "        if not os.path.exists(model_folder_path):\n",
        "            os.makedirs(model_folder_path)\n",
        "\n",
        "        file_name = os.path.join(model_folder_path, file_name)\n",
        "        torch.save(self.state_dict(), file_name)\n",
        "\n",
        "\n"
      ]
    },
    {
      "cell_type": "markdown",
      "metadata": {
        "id": "phl5fIrGziSJ"
      },
      "source": [
        " #Implementing the Q learning class, we use Bellman equations here.."
      ]
    },
    {
      "cell_type": "code",
      "execution_count": 41,
      "metadata": {
        "id": "RHslNFBZgdqr"
      },
      "outputs": [],
      "source": [
        "class QTrainer:\n",
        "    def __init__(self, model, lr, gamma):\n",
        "        self.lr = lr\n",
        "        self.gamma = gamma\n",
        "        self.model = model\n",
        "        self.optimizer = optim.Adam(model.parameters(), lr=self.lr)\n",
        "        self.criterion = nn.MSELoss()\n",
        "\n",
        "    def train_step(self, state, action, reward, next_state, done):\n",
        "        state = torch.tensor(state, dtype=torch.float)\n",
        "        next_state = torch.tensor(next_state, dtype=torch.float)\n",
        "        action = torch.tensor(action, dtype=torch.long)\n",
        "        reward = torch.tensor(reward, dtype=torch.float)\n",
        "        if len(state.shape) == 1:\n",
        "            # (1, x)\n",
        "            state = torch.unsqueeze(state, 0)\n",
        "            next_state = torch.unsqueeze(next_state, 0)\n",
        "            action = torch.unsqueeze(action, 0)\n",
        "            reward = torch.unsqueeze(reward, 0)\n",
        "            done = (done, )\n",
        "\n",
        "        # 1: predicted Q values with current state\n",
        "        pred = self.model(state)\n",
        "\n",
        "        target = pred.clone()\n",
        "        for idx in range(len(done)):\n",
        "            Q_new = reward[idx]\n",
        "            if not done[idx]:\n",
        "                Q_new = reward[idx] + self.gamma * torch.max(self.model(next_state[idx]))\n",
        "\n",
        "            target[idx][torch.argmax(action[idx]).item()] = Q_new\n",
        "\n",
        "        # 2: Q_new = r + y * max(next_predicted Q value) -> only do this if not done\n",
        "        # pred.clone()\n",
        "        # preds[argmax(action)] = Q_new\n",
        "        self.optimizer.zero_grad()\n",
        "        loss = self.criterion(target, pred)\n",
        "        loss.backward()\n",
        "\n",
        "        self.optimizer.step()"
      ]
    },
    {
      "cell_type": "markdown",
      "metadata": {
        "id": "K0CSYxJdg1kx"
      },
      "source": [
        "Implementing Agent class"
      ]
    },
    {
      "cell_type": "code",
      "execution_count": 18,
      "metadata": {
        "id": "s_8AySEXjTSu"
      },
      "outputs": [],
      "source": [
        "MAX_MEMORY = 100_000\n",
        "BATCH_SIZE = 1000\n",
        "Learning_rate = 0.001"
      ]
    },
    {
      "cell_type": "code",
      "execution_count": 42,
      "metadata": {
        "id": "MyjBsaLYg3u9"
      },
      "outputs": [],
      "source": [
        "class Agent:\n",
        "\n",
        "    def __init__(self):\n",
        "        self.n_games = 0\n",
        "        self.epsilon = 0 # randomness\n",
        "        self.gamma = 0.9 # discount rate\n",
        "        self.memory = deque(maxlen=MAX_MEMORY) # popleft()\n",
        "        self.model = Linear_QNet(11, 256, 3)\n",
        "        self.trainer = QTrainer(self.model, lr=Learning_rate, gamma=self.gamma)\n",
        "\n",
        "    def get_state(self,game):\n",
        "\n",
        "        head = game.snake[0]\n",
        "        point_l = Point(head.x - 20, head.y)\n",
        "        point_r = Point(head.x + 20, head.y)\n",
        "        point_u = Point(head.x, head.y - 20)\n",
        "        point_d = Point(head.x, head.y + 20)\n",
        "\n",
        "        dir_l = game.direction == Direction.LEFT\n",
        "        dir_r = game.direction == Direction.RIGHT\n",
        "        dir_u = game.direction == Direction.UP\n",
        "        dir_d = game.direction == Direction.DOWN\n",
        "\n",
        "        state = [\n",
        "            # Danger straight\n",
        "            (dir_r and game.is_collision(point_r)) or\n",
        "            (dir_l and game.is_collision(point_l)) or\n",
        "            (dir_u and game.is_collision(point_u)) or\n",
        "            (dir_d and game.is_collision(point_d)),\n",
        "\n",
        "            # Danger right\n",
        "            (dir_u and game.is_collision(point_r)) or\n",
        "            (dir_d and game.is_collision(point_l)) or\n",
        "            (dir_l and game.is_collision(point_u)) or\n",
        "            (dir_r and game.is_collision(point_d)),\n",
        "\n",
        "            # Danger left\n",
        "            (dir_d and game.is_collision(point_r)) or\n",
        "            (dir_u and game.is_collision(point_l)) or\n",
        "            (dir_r and game.is_collision(point_u)) or\n",
        "            (dir_l and game.is_collision(point_d)),\n",
        "\n",
        "            # Move direction\n",
        "            dir_l,\n",
        "            dir_r,\n",
        "            dir_u,\n",
        "            dir_d,\n",
        "\n",
        "            # Food location\n",
        "            game.food.x < game.head.x,  # food left\n",
        "            game.food.x > game.head.x,  # food right\n",
        "            game.food.y < game.head.y,  # food up\n",
        "            game.food.y > game.head.y  # food down\n",
        "            ]\n",
        "\n",
        "        return np.array(state, dtype=int)\n",
        "\n",
        "  #Function for replay buffer\n",
        "    def remember(self,state,action,reward,next_state,done):\n",
        "        self.memory.append((state,action,reward,next_state,done))\n",
        "\n",
        "    def train_long_memory(self):\n",
        "        if len(self.memory) > BATCH_SIZE:\n",
        "            mini_sample = random.sample(self.memory, BATCH_SIZE) # list of tuples\n",
        "        else:\n",
        "            mini_sample = self.memory\n",
        "\n",
        "        states, actions, rewards, next_states, dones = zip(*mini_sample)\n",
        "        self.trainer.train_step(states, actions, rewards, next_states, dones)\n",
        "        \n",
        "    def train_short_memory(self,state,action,reward,next_state,done):\n",
        "        self.trainer.train_step(state, action, reward, next_state, done)\n",
        "\n",
        "  #For choosing action we do exploration more at first, after some time ,\n",
        "  # epsilon will increasing and the action is chosen from predict function\n",
        "  # this is exploration vs exploitation\n",
        "    def get_action(self,state):\n",
        "\n",
        "        self.epsilon = 80 - self.n_games\n",
        "        final_move = [0,0,0]\n",
        "        if random.randint(0,200) < self.epsilon:\n",
        "            move = random.randint(0,2)\n",
        "            final_move[move] = 1\n",
        "\n",
        "        else:\n",
        "            state0 = torch.tensor(state,dtype = torch.float)\n",
        "\n",
        "            prediction = self.model(state0)\n",
        "            move = torch.argmax(prediction).item()\n",
        "            final_move[move] = 1\n",
        "        return final_move"
      ]
    },
    {
      "cell_type": "markdown",
      "metadata": {
        "id": "YpHcKGY1h8aJ"
      },
      "source": [
        "Function for training"
      ]
    },
    {
      "cell_type": "code",
      "execution_count": 43,
      "metadata": {
        "id": "K850OTPjh4Ws"
      },
      "outputs": [],
      "source": [
        "def train():\n",
        "    plot_scores = []\n",
        "    plot_mean_scores = []\n",
        "    total_score = 0\n",
        "    record = 0\n",
        "    agent = Agent()\n",
        "    game = SnakeGameDQN()\n",
        "    while True:\n",
        "\n",
        "        state_old = agent.get_state(game)\n",
        "\n",
        "        final_move = agent.get_action(state_old)\n",
        "\n",
        "        reward , done, score = game.play_step(final_move)\n",
        "\n",
        "        state_new = agent.get_state(game)\n",
        "\n",
        "        agent.train_short_memory(state_old,final_move,reward,state_new,done)\n",
        "\n",
        "        agent.remember(state_old,final_move,reward,state_new,done)\n",
        "\n",
        "        if done:\n",
        "\n",
        "            game.reset()\n",
        "            agent.n_games+=1\n",
        "            agent.train_long_memory()\n",
        "\n",
        "            if score > record:\n",
        "                record = score\n",
        "                agent.model.save()\n",
        "\n",
        "            print('Game', agent.n_games, 'Score', score, 'Record:', record)\n",
        "\n",
        "            plot_scores.append(score)\n",
        "            total_score += score\n",
        "            mean_score = total_score / agent.n_games\n",
        "            plot_mean_scores.append(mean_score)\n",
        "            plot(plot_scores, plot_mean_scores)"
      ]
    },
    {
      "cell_type": "code",
      "execution_count": null,
      "metadata": {
        "colab": {
          "base_uri": "https://localhost:8080/",
          "height": 489
        },
        "id": "NhyccbiBh4TM",
        "outputId": "379af301-f610-4490-8c09-547e364eb7a7"
      },
      "outputs": [
        {
          "data": {
            "text/plain": [
              "<Figure size 640x480 with 0 Axes>"
            ]
          },
          "metadata": {},
          "output_type": "display_data"
        },
        {
          "data": {
            "image/png": "[encoded data removed]",
            "text/plain": [
              "<Figure size 640x480 with 1 Axes>"
            ]
          },
          "metadata": {},
          "output_type": "display_data"
        }
      ],
      "source": [
        "if __name__ == '__main__':\n",
        "    train()"
      ]
    }
  ],
  "metadata": {
    "colab": {
      "provenance": []
    },
    "kernelspec": {
      "display_name": "Python 3",
      "name": "python3"
    },
    "language_info": {
      "name": "python"
    }
  },
  "nbformat": 4,
  "nbformat_minor": 0
}
